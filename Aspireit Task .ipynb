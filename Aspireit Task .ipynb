{
 "cells": [
  {
   "cell_type": "code",
   "execution_count": 1,
   "id": "6a24ab4b",
   "metadata": {},
   "outputs": [
    {
     "name": "stdout",
     "output_type": "stream",
     "text": [
      "Current Working Directory: D:\\Aspireit\n"
     ]
    }
   ],
   "source": [
    "import os\n",
    "print(\"Current Working Directory:\", os.getcwd())"
   ]
  },
  {
   "cell_type": "markdown",
   "id": "6abbef79",
   "metadata": {},
   "source": [
    "# 1. User Interaction: \n",
    "• Is the user interface intuitive and easy to use? \n",
    "• Does the program effectively prompt the user for input and generate responses based on the \n",
    "input? "
   ]
  },
  {
   "cell_type": "code",
   "execution_count": 2,
   "id": "b2274d1c",
   "metadata": {},
   "outputs": [
    {
     "name": "stdout",
     "output_type": "stream",
     "text": [
      "WARNING:tensorflow:From C:\\Anaconda\\envs\\ai\\Lib\\site-packages\\tf_keras\\src\\losses.py:2976: The name tf.losses.sparse_softmax_cross_entropy is deprecated. Please use tf.compat.v1.losses.sparse_softmax_cross_entropy instead.\n",
      "\n"
     ]
    },
    {
     "name": "stderr",
     "output_type": "stream",
     "text": [
      "C:\\Anaconda\\envs\\ai\\Lib\\site-packages\\transformers\\tokenization_utils_base.py:1601: FutureWarning: `clean_up_tokenization_spaces` was not set. It will be set to `True` by default. This behavior will be depracted in transformers v4.45, and will be then set to `False` by default. For more details check this issue: https://github.com/huggingface/transformers/issues/31884\n",
      "  warnings.warn(\n"
     ]
    },
    {
     "name": "stdout",
     "output_type": "stream",
     "text": [
      "\n",
      "Loaded conversation:\n",
      "         Date        Time          Name  \\\n",
      "0  01-06-2023    9:39 AM    Elil Greens   \n",
      "1  01-06-2023    9:39 AM    Elil Greens   \n",
      "2  01-06-2023    9:39 AM    Elil Greens   \n",
      "3  01-06-2023   10:05 AM              🌚   \n",
      "4  01-06-2023   10:08 AM    Elil Greens   \n",
      "\n",
      "                                       Chat  \n",
      "0                                        Hi  \n",
      "1   I am Ezhilarasan from Greens technology  \n",
      "2              When will u free pls call me  \n",
      "3               Pls give the python content  \n",
      "4                                        ok  \n",
      "Welcome to the Chatbot! Type 'exit' to end the conversation.\n",
      "You: Pls give the python content\n"
     ]
    },
    {
     "name": "stderr",
     "output_type": "stream",
     "text": [
      "Truncation was not explicitly activated but `max_length` is provided a specific value, please use `truncation=True` to explicitly truncate examples to max length. Defaulting to 'longest_first' truncation strategy. If you encode pairs of sequences (GLUE-style) with the tokenizer you can select this strategy more precisely by providing a specific strategy to `truncation`.\n",
      "Setting `pad_token_id` to `eos_token_id`:50256 for open-end generation.\n"
     ]
    },
    {
     "name": "stdout",
     "output_type": "stream",
     "text": [
      "Assistant: Pls give the python content to the other python files and python-py, the Python engine.\n",
      "\n",
      "If you're using cURL, cURL will set the URL path to your project directory. So you know why we have an all the python and python-py paths? Because that should work with cURL.\n",
      "\n",
      "If you're using tbtr for Django, it will use this default URL and you will see the tbtr directory's directory with the contents of the TBBDIR. We want to exclude the directory from all of the resources in the tbtr package list so that it doesn't look like it's all in the same directory:\n",
      "\n",
      "$ tbtr exclude tbtr.db $ t\n",
      "You: exit\n",
      "Goodbye!\n"
     ]
    }
   ],
   "source": [
    "import os\n",
    "import pandas as pd\n",
    "from transformers import pipeline\n",
    "\n",
    "# Set your Hugging Face API token\n",
    "HUGGINGFACE_API_TOKEN = 'your_huggingface_api_token'  # Replace with your actual token\n",
    "os.environ['HUGGINGFACE_TOKEN'] = HUGGINGFACE_API_TOKEN\n",
    "\n",
    "# Initialize the text generation model using Hugging Face\n",
    "model_name = \"gpt2\"  # Change to \"gpt-3\" if you have access to that model\n",
    "generator = pipeline('text-generation', model=model_name)\n",
    "\n",
    "# Function to generate text using Hugging Face API\n",
    "def generate_response(user_input):\n",
    "    response = generator(user_input, max_length=150, num_return_sequences=1)[0]['generated_text']\n",
    "    return response.strip()\n",
    "\n",
    "# Load the conversation from CSV\n",
    "def load_whatsapp_chat(file_path):\n",
    "    try:\n",
    "        loaded_table = pd.read_csv(file_path)\n",
    "        print(\"\\nLoaded conversation:\")\n",
    "        print(loaded_table.head())  # Display the first few rows for confirmation\n",
    "        return loaded_table\n",
    "    except Exception as e:\n",
    "        print(f\"Error loading the CSV file: {e}\")\n",
    "        return None\n",
    "\n",
    "# Main chat loop\n",
    "def chat_with_bot():\n",
    "    csv_file_path = 'D:/Aspireit/whatsapp_data.csv'  # Update the path to your CSV file\n",
    "    whatsapp_chat = load_whatsapp_chat(csv_file_path)\n",
    "    \n",
    "    if whatsapp_chat is None:\n",
    "        print(\"Unable to load chat data. Exiting.\")\n",
    "        return\n",
    "\n",
    "    print(\"Welcome to the Chatbot! Type 'exit' to end the conversation.\")\n",
    "    \n",
    "    while True:\n",
    "        user_input = input(\"You: \")\n",
    "        \n",
    "        if user_input.lower() == \"exit\":\n",
    "            print(\"Goodbye!\")\n",
    "            break\n",
    "        \n",
    "        # Generate a response\n",
    "        response = generate_response(user_input)\n",
    "        print(f\"Assistant: {response}\")\n",
    "\n",
    "# Run the chatbot\n",
    "if __name__ == \"__main__\":\n",
    "    chat_with_bot()\n"
   ]
  },
  {
   "cell_type": "markdown",
   "id": "668107fe",
   "metadata": {},
   "source": [
    "# 2. Text Generation and Sentiment Analysis: \n",
    "• Are responses generated by the GPT-3 model contextually relevant and coherent? \n",
    "• How accurately does the program perform sentiment analysis on the generated responses?"
   ]
  },
  {
   "cell_type": "code",
   "execution_count": 3,
   "id": "8fa6591b",
   "metadata": {},
   "outputs": [
    {
     "name": "stdout",
     "output_type": "stream",
     "text": [
      "Sentiment Analysis Report:\n",
      "Sentiment\n",
      "Neutral     3\n",
      "Positive    2\n",
      "Name: count, dtype: int64\n",
      "Response: Hi\n",
      "Sentiment: Neutral\n",
      "\n",
      "Response: I am Ezhilarasan from Greens technology\n",
      "Sentiment: Neutral\n",
      "\n",
      "Response: When will u free pls call me\n",
      "Sentiment: Positive\n",
      "\n",
      "Response: Pls give the python content\n",
      "Sentiment: Neutral\n",
      "\n",
      "Response: ok\n",
      "Sentiment: Positive\n",
      "\n"
     ]
    }
   ],
   "source": [
    "import pandas as pd\n",
    "from textblob import TextBlob\n",
    "\n",
    "# Sample chat responses\n",
    "responses = [\n",
    "    \"Hi\",\n",
    "    \"I am Ezhilarasan from Greens technology\",\n",
    "    \"When will u free pls call me\",\n",
    "    \"Pls give the python content\",\n",
    "    \"ok\"\n",
    "]\n",
    "\n",
    "# Function to analyze sentiment\n",
    "def analyze_sentiment(text):\n",
    "    analysis = TextBlob(text)\n",
    "    if analysis.sentiment.polarity > 0:\n",
    "        return 'Positive'\n",
    "    elif analysis.sentiment.polarity < 0:\n",
    "        return 'Negative'\n",
    "    else:\n",
    "        return 'Neutral'\n",
    "\n",
    "# Analyze sentiment for each response\n",
    "sentiments = [analyze_sentiment(response) for response in responses]\n",
    "\n",
    "# Create a DataFrame for better handling\n",
    "sentiment_df = pd.DataFrame({'Response': responses, 'Sentiment': sentiments})\n",
    "\n",
    "# Count occurrences of each sentiment\n",
    "sentiment_counts = sentiment_df['Sentiment'].value_counts()\n",
    "\n",
    "# Print the sentiment results\n",
    "print(\"Sentiment Analysis Report:\")\n",
    "print(sentiment_counts)\n",
    "\n",
    "for response, sentiment in zip(responses, sentiments):\n",
    "    print(f\"Response: {response}\\nSentiment: {sentiment}\\n\")\n"
   ]
  },
  {
   "cell_type": "markdown",
   "id": "f6be69f6",
   "metadata": {},
   "source": [
    "# 3. Report Generation and Data Visualization: \n",
    "• Are the reports generated by the program informative and well-structured? \n",
    "• Do the data visualizations effectively represent the sentiment analysis results?"
   ]
  },
  {
   "cell_type": "code",
   "execution_count": 4,
   "id": "3f6a815a",
   "metadata": {},
   "outputs": [
    {
     "data": {
      "image/png": "[encoded data removed]",
      "text/plain": [
       "<Figure size 800x500 with 1 Axes>"
      ]
     },
     "metadata": {},
     "output_type": "display_data"
    }
   ],
   "source": [
    "import matplotlib.pyplot as plt\n",
    "\n",
    "# Visualization of sentiment counts\n",
    "plt.figure(figsize=(8, 5))\n",
    "sentiment_counts.plot(kind='bar', color=['blue', 'orange', 'green'])\n",
    "plt.title('Sentiment Analysis of Chat Responses')\n",
    "plt.xlabel('Sentiment')\n",
    "plt.ylabel('Count')\n",
    "plt.xticks(rotation=45)\n",
    "plt.grid(axis='y')\n",
    "plt.tight_layout()\n",
    "plt.savefig('sentiment_analysis.png')  # Save the plot as a PNG file\n",
    "plt.show()  # Show the plot"
   ]
  },
  {
   "cell_type": "code",
   "execution_count": null,
   "id": "b4ca6d2a",
   "metadata": {},
   "outputs": [],
   "source": []
  }
 ],
 "metadata": {
  "kernelspec": {
   "display_name": "Python 3 (ipykernel)",
   "language": "python",
   "name": "python3"
  },
  "language_info": {
   "codemirror_mode": {
    "name": "ipython",
    "version": 3
   },
   "file_extension": ".py",
   "mimetype": "text/x-python",
   "name": "python",
   "nbconvert_exporter": "python",
   "pygments_lexer": "ipython3",
   "version": "3.12.5"
  }
 },
 "nbformat": 4,
 "nbformat_minor": 5
}
